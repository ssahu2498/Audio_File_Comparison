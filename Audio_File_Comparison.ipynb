{
 "cells": [
  {
   "cell_type": "code",
   "execution_count": 66,
   "metadata": {},
   "outputs": [],
   "source": [
    "import numpy as np\n",
    "import pandas as pd\n",
    "import librosa\n",
    "import matplotlib.pyplot as plt"
   ]
  },
  {
   "cell_type": "code",
   "execution_count": 37,
   "metadata": {},
   "outputs": [
    {
     "data": {
      "text/plain": [
       "'C:\\\\Users\\\\ssahu'"
      ]
     },
     "execution_count": 37,
     "metadata": {},
     "output_type": "execute_result"
    }
   ],
   "source": [
    "import os\n",
    "os.getcwd()"
   ]
  },
  {
   "cell_type": "markdown",
   "metadata": {},
   "source": [
    "## Creating Class for audio file comparison"
   ]
  },
  {
   "cell_type": "code",
   "execution_count": 125,
   "metadata": {},
   "outputs": [],
   "source": [
    "class Audio_Comparison:\n",
    "    \"\"\"Audio_Comparison class for comparing two audio files and showing the result in percentage.\n",
    "       \n",
    "       Attributes:\n",
    "       file1 (string) is the path of secondary file which is to be compare with main file.\n",
    "       file2 (string) is the path of the main file or primary file or may say original file.\n",
    "       s (integer) is the sampling ratio of the audio file. Here default value of s is set to 200 for good accuracy.\n",
    "       data1(numpy array) is the waveform data of the secondary file\n",
    "       data2(numpy array) is the waveform data of the primary file\n",
    "       \n",
    "    \"\"\"\n",
    "    def __init__(self , file1 ,file2, s = 200):\n",
    "        self.file1 = file1\n",
    "        self.file2 = file2\n",
    "        self.s = s\n",
    "        self.matching_percentage = None\n",
    "        self.data1 = None\n",
    "        self.data2 = None\n",
    "        \n",
    "    def comp(self):\n",
    "        \"\"\"Function to compare the two audio file and printing the output in percentage.\n",
    "           (First Initialize the Audio_Comparison class with an object then apply this function on that object)\n",
    "           \n",
    "           Arguments: No Argument\n",
    "           \n",
    "           Return : \n",
    "                   String: Returns Matching percentage value that how much percentage of audio file1 is found in \n",
    "                   audio file2.\n",
    "        \"\"\"\n",
    "        data1 , sr1 = librosa.load(self.file1, sr = self.s)\n",
    "        data2 , sr2 = librosa.load(self.file2, sr = self.s)\n",
    "        self.data1 = data1\n",
    "        self.data2 = data2\n",
    "        com = 0\n",
    "        for data in self.data1:\n",
    "            if data in self.data2:\n",
    "                com = com+1\n",
    "        self.matching_percentage = (com/len(data1))*100\n",
    "        print(\"Matching Percentage is: {} %\".format(self.matching_percentage))\n",
    "        \n",
    "    def wave_plot(self):\n",
    "        \"\"\"Function to plot the two audio file and printing the output in percentage.\n",
    "           (First Initialize the Audio_Comparison class then apply comp() method for getting waveform data. \n",
    "           After that apply this method.)\n",
    "           \n",
    "           Arguments: No Argument\n",
    "           \n",
    "           Return : \n",
    "                   Plot Graph : Two subplot graphs 1st is the waveform data of file1 and 2nd is the waveform \n",
    "                   data of file2.\n",
    "        \"\"\"\n",
    "        plt.figure(figsize = (20,6))\n",
    "        plt.subplot(121)\n",
    "        plt.plot(np.arange(0,len(self.data1)),self.data1)\n",
    "        plt.subplot(122)\n",
    "        plt.plot(np.arange(0,len(self.data2)),self.data2)\n",
    "        plt.show()"
   ]
  },
  {
   "cell_type": "markdown",
   "metadata": {},
   "source": [
    "### Comparing two audio files where first file is an splitted file of second file. "
   ]
  },
  {
   "cell_type": "code",
   "execution_count": 126,
   "metadata": {},
   "outputs": [
    {
     "name": "stdout",
     "output_type": "stream",
     "text": [
      "Matching Percentage is: 99.2560975609756 %\n"
     ]
    }
   ],
   "source": [
    "\"\"\"file1 is an splitted audio file of file2. Hence it should be 100% present in file2.\n",
    "   Hence ideally we should get 100% matching percentage.\"\"\" \n",
    "\n",
    "file1 = \"Downloads\\\\Imagine Dragons - Birds (mp3cut.net).wav\"\n",
    "file2 = \"Downloads\\\\Imagine Dragons - Birds.wav\"\n",
    "a = Audio_Comparison(file1,file2)\n",
    "a.comp()"
   ]
  },
  {
   "cell_type": "code",
   "execution_count": 128,
   "metadata": {},
   "outputs": [
    {
     "name": "stdout",
     "output_type": "stream",
     "text": [
      "Matching Percentage is: 98.925 %\n"
     ]
    }
   ],
   "source": [
    "#Comparing for another files. Here also file1 is an splitted file of file2.\n",
    "file2 = \"Downloads\\\\Khairiyat (Chhichhore).wav\"\n",
    "file1 = \"Downloads\\\\khariyat_cut.wav\"\n",
    "b = Audio_Comparison(file1,file2)\n",
    "b.comp()"
   ]
  },
  {
   "cell_type": "code",
   "execution_count": 131,
   "metadata": {},
   "outputs": [
    {
     "name": "stdout",
     "output_type": "stream",
     "text": [
      "Matching Percentage is: 99.00293255131965 %\n"
     ]
    }
   ],
   "source": [
    "#Comparing for another files. Here also file1 is an splitted file of file2.\n",
    "file1 = \"Downloads\\\\Imagine-Dragons-Believer (mp3cut.net).wav\"\n",
    "file2 = \"Downloads\\Imagine-Dragons-Believer.wav\"\n",
    "c = Audio_Comparison(file1,file2)\n",
    "c.comp()"
   ]
  },
  {
   "cell_type": "markdown",
   "metadata": {},
   "source": [
    "### Comparing the two different audio files"
   ]
  },
  {
   "cell_type": "code",
   "execution_count": 129,
   "metadata": {},
   "outputs": [
    {
     "name": "stdout",
     "output_type": "stream",
     "text": [
      "Matching Percentage is: 0.016576417283677754 %\n"
     ]
    }
   ],
   "source": [
    "# Comparing the different audio files. Here matching percentage should be ideally 0%.\n",
    "file1 = \"Downloads\\\\Khairiyat (Chhichhore).wav\"\n",
    "file2 = \"Downloads\\\\Imagine Dragons - Birds.wav\"\n",
    "d = Audio_Comparison(file1,file2)\n",
    "d.comp()"
   ]
  },
  {
   "cell_type": "code",
   "execution_count": 130,
   "metadata": {},
   "outputs": [
    {
     "name": "stdout",
     "output_type": "stream",
     "text": [
      "Matching Percentage is: 0.009787129924149743 %\n"
     ]
    }
   ],
   "source": [
    "# Comparing the different audio files. Here matching percentage should be ideally 0%.\n",
    "file1 = \"Downloads\\\\Imagine-Dragons-Believer.wav\"\n",
    "file2 = \"Downloads\\\\Imagine Dragons - Birds (mp3cut.net).wav\"\n",
    "e = Audio_Comparison(file1,file2)\n",
    "e.comp()"
   ]
  },
  {
   "cell_type": "code",
   "execution_count": 132,
   "metadata": {},
   "outputs": [
    {
     "name": "stdout",
     "output_type": "stream",
     "text": [
      "Matching Percentage is: 0.011450556497045756 %\n"
     ]
    }
   ],
   "source": [
    "# Comparing the different audio files. Here matching percentage should be ideally 0%.\n",
    "file1 = \"Downloads\\\\Imagine Dragons - Birds.wav\"\n",
    "file2 = \"Downloads\\\\Imagine-Dragons-Believer (mp3cut.net).wav\"\n",
    "f = Audio_Comparison(file1,file2)\n",
    "f.comp()"
   ]
  },
  {
   "cell_type": "markdown",
   "metadata": {},
   "source": [
    "### Coparing two same file with different location"
   ]
  },
  {
   "cell_type": "code",
   "execution_count": 134,
   "metadata": {},
   "outputs": [
    {
     "name": "stdout",
     "output_type": "stream",
     "text": [
      "Matching Percentage is: 100.0 %\n"
     ]
    }
   ],
   "source": [
    "file1= \"Documents\\\\Imagine Dragons - Birds (mp3cut.net)_Copy.wav\"\n",
    "file2 = \"Downloads\\\\Imagine Dragons - Birds (mp3cut.net).wav\"\n",
    "g = Audio_Comparison(file1,file2)\n",
    "g.comp()"
   ]
  },
  {
   "cell_type": "code",
   "execution_count": null,
   "metadata": {},
   "outputs": [],
   "source": []
  }
 ],
 "metadata": {
  "kernelspec": {
   "display_name": "Python 3",
   "language": "python",
   "name": "python3"
  },
  "language_info": {
   "codemirror_mode": {
    "name": "ipython",
    "version": 3
   },
   "file_extension": ".py",
   "mimetype": "text/x-python",
   "name": "python",
   "nbconvert_exporter": "python",
   "pygments_lexer": "ipython3",
   "version": "3.8.3"
  }
 },
 "nbformat": 4,
 "nbformat_minor": 4
}
